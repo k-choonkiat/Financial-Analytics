{
 "cells": [
  {
   "cell_type": "code",
   "execution_count": 2,
   "metadata": {},
   "outputs": [],
   "source": [
    "import pandas as pd\n",
    "import numpy as np\n",
    "import matplotlib.pyplot as plt\n",
    "import scipy.optimize as spo"
   ]
  },
  {
   "cell_type": "code",
   "execution_count": 3,
   "metadata": {},
   "outputs": [],
   "source": [
    "def f(x):\n",
    "    y = ((x-3)**2) +9\n",
    "    return y"
   ]
  },
  {
   "cell_type": "code",
   "execution_count": 17,
   "metadata": {},
   "outputs": [],
   "source": [
    "def test_run():\n",
    "    guess = 10\n",
    "    min_res = spo.minimize(f,guess,method=\"SLSQP\",options={\"disp\": True})\n",
    "    print(\"X={},y={}\".format(min_res,min_res.fun))"
   ]
  },
  {
   "cell_type": "code",
   "execution_count": 18,
   "metadata": {},
   "outputs": [
    {
     "name": "stdout",
     "output_type": "stream",
     "text": [
      "Optimization terminated successfully.    (Exit mode 0)\n",
      "            Current function value: 9.0\n",
      "            Iterations: 2\n",
      "            Function evaluations: 7\n",
      "            Gradient evaluations: 2\n",
      "X=     fun: 9.0\n",
      "     jac: array([0.])\n",
      " message: 'Optimization terminated successfully.'\n",
      "    nfev: 7\n",
      "     nit: 2\n",
      "    njev: 2\n",
      "  status: 0\n",
      " success: True\n",
      "       x: array([3.]),y=9.0\n"
     ]
    }
   ],
   "source": [
    "if __name__ == \"__main__\":\n",
    "    test_run()"
   ]
  },
  {
   "cell_type": "markdown",
   "metadata": {},
   "source": [
    "Now let us use the minimiser for a linear regression based on array of data and see how well it does"
   ]
  },
  {
   "cell_type": "markdown",
   "metadata": {},
   "source": [
    "the idea is to minimise the error based on the weights"
   ]
  },
  {
   "cell_type": "code",
   "execution_count": 47,
   "metadata": {},
   "outputs": [],
   "source": [
    "def error(line,data):\n",
    "    # data is a 2d array consisting of data points of x and y values\n",
    "    #line is a array consisting of weight : line[0] and intercept : line[1]\n",
    "    \n",
    "    # we defined error as sum of squared error\n",
    "    err = (data[1] - (line[0]*data[0] + line[1] ))**2\n",
    "    return sum(err)\n",
    "    "
   ]
  },
  {
   "cell_type": "markdown",
   "metadata": {},
   "source": [
    "### now we create the actual data points and form the line"
   ]
  },
  {
   "cell_type": "code",
   "execution_count": 33,
   "metadata": {},
   "outputs": [
    {
     "name": "stdout",
     "output_type": "stream",
     "text": [
      "[ 0.          2.22222222  4.44444444  6.66666667  8.88888889 11.11111111\n",
      " 13.33333333 15.55555556 17.77777778 20.        ]\n",
      "[5, 4]\n",
      "[ 5.         13.88888889 22.77777778 31.66666667 40.55555556 49.44444444\n",
      " 58.33333333 67.22222222 76.11111111 85.        ]\n",
      "[[ 0.          2.22222222  4.44444444  6.66666667  8.88888889 11.11111111\n",
      "  13.33333333 15.55555556 17.77777778 20.        ]\n",
      " [ 5.         13.88888889 22.77777778 31.66666667 40.55555556 49.44444444\n",
      "  58.33333333 67.22222222 76.11111111 85.        ]]\n"
     ]
    }
   ],
   "source": [
    "sample_data = np.linspace(0,20,10)\n",
    "print(sample_data)\n",
    "line = ([5,4])\n",
    "print(line)\n",
    "actual = ([4,5])\n",
    "\n",
    "actual_y = sample_data*actual[0] + actual[1]\n",
    "print(actual_y)\n",
    "\n",
    "dataset = np.asarray([sample_data,actual_y])\n",
    "print(dataset)"
   ]
  },
  {
   "cell_type": "markdown",
   "metadata": {},
   "source": [
    "Now we generate random data points"
   ]
  },
  {
   "cell_type": "code",
   "execution_count": 43,
   "metadata": {},
   "outputs": [
    {
     "name": "stdout",
     "output_type": "stream",
     "text": [
      "[ 0.07657633 -1.2205359   0.08481304 -0.7218815  -0.99653202  1.54713128\n",
      " -0.71440184 -1.82616977 -1.18480563  1.75076839]\n"
     ]
    }
   ],
   "source": [
    "random_X = np.random.normal(size=10)\n",
    "print(random_X)\n",
    "test = np.array([0,2])\n",
    "test_y = random_X * test[0] + test[1]\n"
   ]
  },
  {
   "cell_type": "code",
   "execution_count": 49,
   "metadata": {},
   "outputs": [],
   "source": [
    "def find_weights():\n",
    "    min_res = spo.minimize(error,test,args =(dataset,),method=\"SLSQP\",options={'disp':True})\n",
    "    print(\"X={}, y={}\".format(min_res,min_res.fun))"
   ]
  },
  {
   "cell_type": "code",
   "execution_count": 50,
   "metadata": {},
   "outputs": [
    {
     "name": "stdout",
     "output_type": "stream",
     "text": [
      "Optimization terminated successfully.    (Exit mode 0)\n",
      "            Current function value: 8.737330144450693e-13\n",
      "            Iterations: 3\n",
      "            Function evaluations: 17\n",
      "            Gradient evaluations: 3\n",
      "X=     fun: 8.737330144450693e-13\n",
      "     jac: array([-4.65917209e-05, -3.79835653e-06])\n",
      " message: 'Optimization terminated successfully.'\n",
      "    nfev: 17\n",
      "     nit: 3\n",
      "    njev: 3\n",
      "  status: 0\n",
      " success: True\n",
      "       x: array([3.99999997, 5.00000015]), y=8.737330144450693e-13\n"
     ]
    }
   ],
   "source": [
    "find_weights()"
   ]
  }
 ],
 "metadata": {
  "kernelspec": {
   "display_name": "Python 3",
   "language": "python",
   "name": "python3"
  },
  "language_info": {
   "codemirror_mode": {
    "name": "ipython",
    "version": 3
   },
   "file_extension": ".py",
   "mimetype": "text/x-python",
   "name": "python",
   "nbconvert_exporter": "python",
   "pygments_lexer": "ipython3",
   "version": "3.7.4"
  }
 },
 "nbformat": 4,
 "nbformat_minor": 2
}
